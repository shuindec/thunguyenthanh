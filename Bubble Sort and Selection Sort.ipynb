{
  "nbformat": 4,
  "nbformat_minor": 0,
  "metadata": {
    "colab": {
      "provenance": [],
      "collapsed_sections": [
        "ZosAjaCkmpfZ",
        "35hVc39vnI9X",
        "Pm9ecDYGnLru",
        "_io-SELxnRM4",
        "lX3Qsa5ZnU2c",
        "FvpoXw06nWxc",
        "DBeZAXcanZdD",
        "XSm4mPxknbNB",
        "LOlo0oSsLiib",
        "fCYYt2dtFVvH",
        "1uEDb9fWPMYw",
        "ShCHhkxSUKz0",
        "yKTBbVg2m8ke",
        "kwtUpTopWJMk",
        "s49OmCNaqxnf",
        "Tq-Qypu-tXa7",
        "fwkroMVXwDWI",
        "GHPke1XDb6q-",
        "McAOGjOkzCMZ",
        "RePb1ZQlzMhf",
        "sMD6dmPfzwjj"
      ],
      "toc_visible": true,
      "include_colab_link": true
    },
    "kernelspec": {
      "name": "python3",
      "display_name": "Python 3"
    },
    "language_info": {
      "name": "python"
    }
  },
  "cells": [
    {
      "cell_type": "markdown",
      "metadata": {
        "id": "view-in-github",
        "colab_type": "text"
      },
      "source": [
        "<a href=\"https://colab.research.google.com/github/shuindec/thunguyenthanh/blob/main/Bubble%20Sort%20and%20Selection%20Sort.ipynb\" target=\"_parent\"><img src=\"https://colab.research.google.com/assets/colab-badge.svg\" alt=\"Open In Colab\"/></a>"
      ]
    },
    {
      "cell_type": "markdown",
      "metadata": {
        "id": "55dLQYIQgAHb"
      },
      "source": [
        "# Lab 02 - Bubble Sort and Selection Sort\n",
        "\n",
        "In this lab we will be writing code to implement bubble sort and selection sort, and measure how long these algorithms take to run on datasets of varying sizes."
      ]
    },
    {
      "cell_type": "markdown",
      "metadata": {
        "id": "nGWyzvK7gHDe"
      },
      "source": [
        "## Preliminary Questions\n",
        "\n",
        "Please complete these questions before starting the lab work. These questions are designed to test your understanding of concepts from the workbooks.\n",
        "\n",
        "Write your answers either on paper or in the blank text cell below the question.\n",
        "\n",
        "Solutions are available to you, however you should attempt to answer the question before looking at the solution."
      ]
    },
    {
      "cell_type": "markdown",
      "metadata": {
        "id": "lfeeG8rNmle0"
      },
      "source": [
        "### Question 1\n",
        "What is the aim of complexity analysis (or algorithm analysis)?"
      ]
    },
    {
      "cell_type": "markdown",
      "metadata": {
        "id": "gi5N65SnqkHm"
      },
      "source": [
        "*Write your answer in this text cell or on a sheet of paper*"
      ]
    },
    {
      "cell_type": "markdown",
      "metadata": {
        "id": "ZosAjaCkmpfZ"
      },
      "source": [
        "###### Solution\n"
      ]
    },
    {
      "cell_type": "markdown",
      "metadata": {
        "id": "HB_T3mGknEtQ"
      },
      "source": [
        "The aim of complexity analysis is to generate quantitative information about an algorithm's efficiency."
      ]
    },
    {
      "cell_type": "markdown",
      "metadata": {
        "id": "kFLzZkVQm9vG"
      },
      "source": [
        "### Question 2\n",
        "\n",
        "When conducting algorithm complexity analysis what cases should be considered?\n"
      ]
    },
    {
      "cell_type": "markdown",
      "metadata": {
        "id": "aP2qhTPGqs0b"
      },
      "source": [
        "*Write your answer in this text cell or on a sheet of paper*"
      ]
    },
    {
      "cell_type": "markdown",
      "metadata": {
        "id": "35hVc39vnI9X"
      },
      "source": [
        "###### Solution"
      ]
    },
    {
      "cell_type": "markdown",
      "metadata": {
        "id": "7GGDw6_YnKLU"
      },
      "source": [
        "Average case  \n",
        "Worst case  \n",
        "Best case (Though not so important in the practical use of the algorithm)  \n",
        "\n",
        "For search we may also consider successful vs. unsucessful search."
      ]
    },
    {
      "cell_type": "markdown",
      "metadata": {
        "id": "52Z29vKCnKw4"
      },
      "source": [
        "### Question 3\n",
        "\n",
        "For each of the following summations, write out the expression in full and evaluate it. It may be easiest to write this out on a sheet of paper.\n",
        "\n",
        "The first summation has been completed as an example.  \n",
        "\n",
        "*C* represents a constant.\n",
        "\n",
        "\n",
        "1.   $\\sum_{x=1}^{N}{1} = 1 + 1 + ... + 1 \\text{ (N times)} = N$\n",
        "\n",
        "\n",
        "---\n",
        "\n",
        "\n",
        "2.   $\\sum_{x=1}^{N}{C} = $\n",
        "\n",
        "\n",
        "---\n",
        "\n",
        "\n",
        "3.   $\\sum_{x=1}^{N}{x} = $\n",
        "\n",
        "\n",
        "---\n",
        "\n",
        "\n",
        "4.   $\\sum_{x=1}^{N}{2^{x}} = $\n",
        "\n"
      ]
    },
    {
      "cell_type": "markdown",
      "metadata": {
        "id": "eWenJredsKyx"
      },
      "source": [
        "*Write your answer in this text cell or on a sheet of paper*"
      ]
    },
    {
      "cell_type": "markdown",
      "metadata": {
        "id": "Pm9ecDYGnLru"
      },
      "source": [
        "###### Solution"
      ]
    },
    {
      "cell_type": "markdown",
      "metadata": {
        "id": "XfvvEgXXnMyX"
      },
      "source": [
        "1.   $\\sum_{x=1}^{N}{1} = 1 + 1 + \\ldots + 1 \\text{ (N times)} = N$\n",
        "\n",
        "\n",
        "---\n",
        "\n",
        "\n",
        "2.   $\\sum_{x=1}^{N}{C} = C + C + \\ldots + C \\text{ (N times)} = C \\cdot N$\n",
        "\n",
        "\n",
        "---\n",
        "\n",
        "\n",
        "3.   $\\sum_{x=1}^{N}{x} = 1 + 2 + 3 + \\ldots + N = \\frac{N(N + 1)}{2}$\n",
        "\n",
        "\n",
        "---\n",
        "\n",
        "\n",
        "4.   $\\sum_{x=1}^{N}{2^{x}} = 2^{1} + 2^{2} + 2^{3} + \\ldots + 2^{N} = 2^{N+1} - 2$\n",
        "    * $\\text{(To evaluate, let } S = 2^{1} + 2^{2} + 2^{3} + \\ldots + 2^{N} \\text{. Then compute } 2S - S\\text{)}$"
      ]
    },
    {
      "cell_type": "markdown",
      "metadata": {
        "id": "ZkEbNCFLnM6J"
      },
      "source": [
        "### Question 4\n",
        "\n",
        "List the following in order from best to worst:\n",
        "\n",
        "\n",
        "\n",
        "*   $O(n)$\n",
        "*   $O(\\log{}n)$\n",
        "*   $O(n\\log{}n)$\n",
        "*   $O(1)$\n",
        "*   $O(n^{2})$\n",
        "\n"
      ]
    },
    {
      "cell_type": "markdown",
      "metadata": {
        "id": "x6mj4grZtpm8"
      },
      "source": [
        "*Write your answer in this text cell or on a sheet of paper*"
      ]
    },
    {
      "cell_type": "markdown",
      "metadata": {
        "id": "_io-SELxnRM4"
      },
      "source": [
        "###### Solution"
      ]
    },
    {
      "cell_type": "markdown",
      "metadata": {
        "id": "BaYSHBhWnSo1"
      },
      "source": [
        "*   $O(1)$\n",
        "*   $O(\\log{}n)$\n",
        "*   $O(n)$\n",
        "*   $O(n\\log{}n)$\n",
        "*   $O(n^{2})$"
      ]
    },
    {
      "cell_type": "markdown",
      "metadata": {
        "id": "KOFulNsYnSwd"
      },
      "source": [
        "### Question 5\n",
        "\n",
        "Determine $O(f)$ for the following functions:\n",
        "\n",
        "\n",
        "1.   $2 + 5n + 12n^{2}$\n",
        "\n",
        "\n",
        "---\n",
        "\n",
        "\n",
        "2.   $7n + \\log{}n$\n",
        "\n",
        "\n",
        "---\n",
        "\n",
        "\n",
        "3.   $n^{3} + n^{2}$\n",
        "\n",
        "\n",
        "---\n",
        "\n",
        "\n",
        "4.   $7$\n",
        "\n",
        "\n",
        "---\n",
        "\n",
        "\n",
        "5.   $n$\n",
        "\n",
        "\n",
        "---\n",
        "\n",
        "\n",
        "6.   $3 + 3n + 8n^{4}$\n",
        "\n"
      ]
    },
    {
      "cell_type": "markdown",
      "metadata": {
        "id": "w503bLpaztaN"
      },
      "source": [
        "*Write your answer in this text cell or on a sheet of paper*"
      ]
    },
    {
      "cell_type": "markdown",
      "metadata": {
        "id": "lX3Qsa5ZnU2c"
      },
      "source": [
        "###### Solution"
      ]
    },
    {
      "cell_type": "markdown",
      "metadata": {
        "id": "a2XIwxSDnVk-"
      },
      "source": [
        "1.   $2 + 5n + 12n^{2}$\n",
        "     * $O(n^{2})$\n",
        "\n",
        "\n",
        "---\n",
        "\n",
        "\n",
        "2.   $7n + \\log{}n$\n",
        "     * $O(n)$\n",
        "\n",
        "---\n",
        "\n",
        "\n",
        "3.   $n^{3} + n^{2}$\n",
        "     * $O(n^{3})$\n",
        "\n",
        "\n",
        "---\n",
        "\n",
        "\n",
        "4.   $7$\n",
        "     * $O(1)$\n",
        "\n",
        "\n",
        "---\n",
        "\n",
        "\n",
        "5.   $n$\n",
        "     * $O(n)$\n",
        "\n",
        "\n",
        "---\n",
        "\n",
        "\n",
        "6.   $3 + 3n + 8n^{4}$\n",
        "     * $O(n^{4})$\n",
        "\n"
      ]
    },
    {
      "cell_type": "markdown",
      "metadata": {
        "id": "SrDN4oqrnVrn"
      },
      "source": [
        "### Question 6\n",
        "\n",
        "Consider the following pseudocode for the Bubble sort algorithm\n",
        "\n",
        "```\n",
        "# Bubble sort on list A of N elements\n",
        "FOR i = N-1 to 1\n",
        "  FOR j = 0 to i-1\n",
        "    IF A[j] > A[j+1]\n",
        "      SWAP(A[j], A[j+1])\n",
        "    ENDIF\n",
        "  ENDFOR\n",
        "ENDFOR\n",
        "```\n",
        "\n",
        "\n",
        "\n",
        "1.   How many passes through the outer loop will occur for an array of 5 elements?\n",
        "\n",
        "\n",
        "\n",
        "2.   Trace the execution of the bubble sort algorithm on the following list of names into alphabetical order using Bubble sort. Among other things, show the array after each pass through the outer loop.  \n",
        "\n",
        "|     |          |         |        |      |\n",
        "|-----|----------|---------|--------|------|\n",
        "| Neo | Morpheus | Trinity | Cypher | Anna |\n",
        "\n",
        "\n",
        "\n",
        "3. Referring to part 2, how many swaps are made for the first pass?\n"
      ]
    },
    {
      "cell_type": "markdown",
      "metadata": {
        "id": "FoqdfLIizwMj"
      },
      "source": [
        "*Write your answer in this text cell or on a sheet of paper (It will be easiest on a sheet of paper)*"
      ]
    },
    {
      "cell_type": "markdown",
      "metadata": {
        "id": "FvpoXw06nWxc"
      },
      "source": [
        "###### Solution"
      ]
    },
    {
      "cell_type": "markdown",
      "metadata": {
        "id": "CsPLFyRSnYLZ"
      },
      "source": [
        "1.   4 passes\n",
        "\n",
        "\n",
        "\n",
        "2.   \n",
        "\n",
        "To save space, let's write the list like this:\n",
        "\n",
        "|   |   |   |   |   |\n",
        "|---|---|---|---|---|\n",
        "| N | M | T | C | A |\n",
        "|   |   |   |   | * |\n",
        "\n",
        "We will use * to represent the value of *i* before the pass of the next loop.  \n",
        "Names shown in bold-italics are ones that are being compared.\n",
        "\n",
        "\\\n",
        "\n",
        "**PASS 1**  \n",
        "\n",
        "|   |   |   |   |   |  |\n",
        "|---|---|---|---|---|---|\n",
        "| ***N*** | ***M*** | T | C | A | **SWAP** |\n",
        "| M | ***N*** | ***T*** | C | A | **No swap** |\n",
        "| M | N | ***T*** | ***C*** | A | **SWAP** |\n",
        "| M | N | C | ***T*** | ***A*** | **SWAP** |\n",
        "| M | N | C | A | T | End pass 1 |\n",
        "|   |   |   | * |   |  |\n",
        "\n",
        "**PASS 2**  \n",
        "\n",
        "|   |   |   |   |   |  |\n",
        "|---|---|---|---|---|---|\n",
        "| ***M*** | ***N*** | C | A | T | **No swap** |\n",
        "| M | ***N*** | ***C*** | A | T | **SWAP** |\n",
        "| M | C | ***N*** | ***A*** | T | **SWAP** |\n",
        "| M | C | A | N | T | End pass 2 |\n",
        "|   |   | * |   |   |  |\n",
        "\n",
        "**PASS 3**  \n",
        "\n",
        "|   |   |   |   |   |  |\n",
        "|---|---|---|---|---|---|\n",
        "| ***M*** | ***C*** | A | N | T | **SWAP** |\n",
        "| C | ***M*** | ***A*** | N | T | **SWAP** |\n",
        "| C | A | M | N | T | End pass 3 |\n",
        "|   | * |   |   |   |  |\n",
        "\n",
        "**PASS 4** *(Last Pass)*  \n",
        "\n",
        "|   |   |   |   |   |  |\n",
        "|---|---|---|---|---|---|\n",
        "| ***C*** | ***A*** | M | N | T | **SWAP** |\n",
        "| A | C | M | N | T | End pass 4 |\n",
        "\n",
        "\\\n",
        "\n",
        "3. 3 swaps are made"
      ]
    },
    {
      "cell_type": "markdown",
      "metadata": {
        "id": "DnvK29nYnYWh"
      },
      "source": [
        "### Question 7\n",
        "\n",
        "Consider the following pseudocode for the Selection sort algorithm\n",
        "\n",
        "```\n",
        "# Selection sort on list A of N elements\n",
        "FOR i = N-1 to 1\n",
        "  indexOfMaximum = 0\n",
        "  FOR j = 1 to i\n",
        "    IF A[j] > A[indexOfMaximum]\n",
        "      indexOfMaximum = j\n",
        "    ENDIF\n",
        "  ENDFOR\n",
        "  SWAP(A[i], A[indexOfMaximum])\n",
        "ENDFOR\n",
        "```\n",
        "\n",
        "\n",
        "\n",
        "1.   How many passes through the outer loop will occur for an array of 5 elements?\n",
        "\n",
        "\n",
        "\n",
        "2.   Trace the execution of the selection sort algorithm on the following list of names into alphabetical order using Selection sort. Among other things, show how the index of the maximum element changes in each pass. Also, show the array after each pass through the outer loop.  \n",
        "\n",
        "|     |          |         |        |       |\n",
        "|-----|----------|---------|--------|-------|\n",
        "| Neo | Morpheus | Trinity | Cypher | Smith |\n",
        "\n",
        "\n",
        "\n",
        "3. Referring to part 2, list the elements that are compared during the first pass.\n"
      ]
    },
    {
      "cell_type": "markdown",
      "metadata": {
        "id": "vpbO-8jQzw7W"
      },
      "source": [
        "*Write your answer in this text cell or on a sheet of paper (It will be easiest on a sheet of paper)*"
      ]
    },
    {
      "cell_type": "markdown",
      "metadata": {
        "id": "DBeZAXcanZdD"
      },
      "source": [
        "###### Solution"
      ]
    },
    {
      "cell_type": "markdown",
      "metadata": {
        "id": "u2N29o-FnaXT"
      },
      "source": [
        "1.   4 passes\n",
        "\n",
        "\n",
        "\n",
        "2.   \n",
        "\n",
        "|   |   |   |   |   |   |\n",
        "|---:|:---:|:---:|:---:|:---:|:---:|\n",
        "| **Index** | 0 | 1 | 2 | 3 | 4 |\n",
        "| **Name** | Neo | Morpheus | Trinity | Cypher | Smith |\n",
        "\n",
        "\\\n",
        "\n",
        "**PASS 1**  \n",
        "\n",
        "|   |   |   |   |   |   |\n",
        "|---:|:---:|:---:|:---:|:---:|:---:|\n",
        "| **Index** | 0 | 1 | 2 | 3 | 4 |\n",
        "| **Name** | Neo | Morpheus | Trinity | Cypher | Smith |\n",
        "| **max** | Neo | Neo | Trinity | Trinity | Trinity |\n",
        "| **index of max** | 0 | 0 | 2 | 2 | 2 |\n",
        "| **swap A[2], A[4]** | **Neo** | **Morpheus** | **Smith** | **Cypher** | **Trinity** |\n",
        "\n",
        "\n",
        "**PASS 2**  \n",
        "\n",
        "|   |   |   |   |   |   |\n",
        "|---:|:---:|:---:|:---:|:---:|:---:|\n",
        "| **Index** | 0 | 1 | 2 | 3 | 4 |\n",
        "| **Name** | Neo | Morpheus | Smith | Cypher | Trinity |\n",
        "| **max** | Neo | Neo | Smith | Smith | - |\n",
        "| **index of max** | 0 | 0 | 2 | 2 | - |\n",
        "| **swap A[2], A[3]** | **Neo** | **Morpheus** | **Cypher** | **Smith** | **Trinity** |\n",
        "\n",
        "**PASS 3**  \n",
        "\n",
        "|   |   |   |   |   |   |\n",
        "|---:|:---:|:---:|:---:|:---:|:---:|\n",
        "| **Index** | 0 | 1 | 2 | 3 | 4 |\n",
        "| **Name** | Neo | Morpheus | Cypher | Smith | Trinity |\n",
        "| **max** | Neo | Neo | Neo | - | - |\n",
        "| **index of max** | 0 | 0 | 0 | - | - |\n",
        "| **swap A[0], A[2]** | **Cypher** | **Morpheus** | **Neo** | **Smith** | **Trinity** |\n",
        "\n",
        "**PASS 4** *(Last Pass)*  \n",
        "\n",
        "|   |   |   |   |   |   |\n",
        "|---:|:---:|:---:|:---:|:---:|:---:|\n",
        "| **Index** | 0 | 1 | 2 | 3 | 4 |\n",
        "| **Name** | Cypher | Morpheus | Neo | Smith | Trinity |\n",
        "| **max** | Cypher | Morpheus | - | - | - |\n",
        "| **index of max** | 0 | 1 | - | - | - |\n",
        "| **swap A[1], A[1]** | **Cypher** | **Morpheus** | **Neo** | **Smith** | **Trinity** |\n",
        "\n",
        "\\\n",
        "\n",
        "3. Elements compared during the first pass:\n",
        "     * Neo and Morpheus (A[0] and A[1])\n",
        "     * Neo and Trinity (A[0] and A[2])\n",
        "     * Trinity and Cypher (A[2] and A[3])\n",
        "     * Trinity and Smith (A[2] and A[4])"
      ]
    },
    {
      "cell_type": "markdown",
      "metadata": {
        "id": "sEeYruutnacB"
      },
      "source": [
        "### Question 8\n",
        "\n",
        "What is the efficiency of the following sorting techniques in terms of *Big O* for the **average** case?\n",
        "\n",
        "| Type of Sort | Comparisons | &nbsp; Swaps &nbsp; |\n",
        "|--:|:-:|:-:|\n",
        "| Bubble Sort |  |  |\n",
        "| Selection Sort |  |  |"
      ]
    },
    {
      "cell_type": "markdown",
      "metadata": {
        "id": "Kxh03GBizxtO"
      },
      "source": [
        "*Write your answer in this text cell or on a sheet of paper*"
      ]
    },
    {
      "cell_type": "markdown",
      "metadata": {
        "id": "XSm4mPxknbNB"
      },
      "source": [
        "###### Solution"
      ]
    },
    {
      "cell_type": "markdown",
      "metadata": {
        "id": "ZyKtaN25ncHP"
      },
      "source": [
        "| Type of Sort | Comparisons | &nbsp; Swaps &nbsp; |\n",
        "|--:|:-:|:-:|\n",
        "| Bubble Sort | $O(n^{2})$ | $O(n^{2})$ |\n",
        "| Selection Sort | $O(n^{2})$ | $O(n)$ |"
      ]
    },
    {
      "cell_type": "markdown",
      "metadata": {
        "id": "O8wpJTmW1Kh-"
      },
      "source": [
        "## Downloading the Datasets\n",
        "\n",
        "In this lab we will use datasets of varying sizes to evaluate the code you develop.\n",
        "\n",
        "Run the code cell to download each of the datasets (stored as text files) to your Google Colaboratory session."
      ]
    },
    {
      "cell_type": "code",
      "metadata": {
        "id": "zqKxMpb01Owa"
      },
      "source": [
        "!wget 'https://cloudstor.aarnet.edu.au/plus/s/KzgazTW43JAfaee/download' -O small_data.txt\n",
        "!wget 'https://cloudstor.aarnet.edu.au/plus/s/WW9Aj7kg0gSjMLk/download' -O medium_data.txt\n",
        "!wget 'https://cloudstor.aarnet.edu.au/plus/s/4zR7JLT43e0rRVP/download' -O large_data.txt"
      ],
      "execution_count": null,
      "outputs": []
    },
    {
      "cell_type": "markdown",
      "metadata": {
        "id": "CxFp8pPs1RYB"
      },
      "source": [
        "Once you've downloaded these datasets, open the Files tab 📁 on the left and ensure that you can see each downloaded file.\n",
        "\n",
        "If you are interested in taking a look at these files, double click on one of the files to open them up in the Google Colaboratory editor.\n",
        "\n",
        "If you want to come back to this notebook at a later stage, you'll need to run the code cell above to download the datasets again."
      ]
    },
    {
      "cell_type": "markdown",
      "metadata": {
        "id": "cyRPvz4AYegx"
      },
      "source": [
        "## Lab Tasks\n",
        "In these lab tasks you will write your own functions to implement the bubble sort and selection sort algorithms, then perform experimental time complexity analysis. When doing this time complexity, we will analyse the number of comparisons made during the sort, along with the time taken to complete the sort.\n",
        "\n",
        "Before getting to these tasks, you will first look at a different sorting algorithm, gnome sort, and show how we can make sorting algorithms sort a list of custom objects."
      ]
    },
    {
      "cell_type": "markdown",
      "metadata": {
        "id": "aNYm1UN6YnHo"
      },
      "source": [
        "### Gnome Sort\n",
        "By the end of this section, you will *read* data from a text file into a list (from one of the datasets downloaded above), *sort* the list (using **gnome sort**), *display* the number of comparisons and *write* the sorted list to a file. \n",
        "\n"
      ]
    },
    {
      "cell_type": "markdown",
      "metadata": {
        "id": "FGs4JibaiLXX"
      },
      "source": [
        "#### Gnome Sort Function\n",
        "The idea of gnome sort is as follows:\n",
        "\n",
        "Suppose you are to sort a set of garden gnomes, lining up on a line in order of height:\n",
        "1. Start by standing in front of the gnome in second place\n",
        "2. Repeat the operations:\n",
        "  * Look to the left\n",
        "  * If the gnome on the left is shorter than the current gnome, step to the right\n",
        "  * Otherwise, swap the current gnome with the gnome on the left and step to the left\n",
        "3. If you find yourself at the first position, move a step to the right\n",
        "4. When you move off the line, the sorting has been done\n",
        "\n",
        "The pseudocode for gnome sort looks like:\n",
        "```\n",
        "# Cases 3 and 4 above should be considered first\n",
        "\n",
        "1.  Start at the 2nd position (i = 1)\n",
        "2.  Repeat:\n",
        "    IF i > last position\n",
        "      DONE\n",
        "    ELSE IF i = 0:\n",
        "      Move right (i += 1)\n",
        "    ELSE IF a[i] > a[i-1]\n",
        "      Move right (i += 1)\n",
        "    ELSE\n",
        "      Swap a[i] and a[i-1]\n",
        "      Move left (i -= 1)\n",
        "```\n",
        "\n",
        "Gnome sort has already been implemented for you in the code cell below. You don't need to write any code yourself in this task, however you should take the time to read through the code to get an understanding of how it works."
      ]
    },
    {
      "cell_type": "code",
      "metadata": {
        "id": "qohIz5jsJxnP"
      },
      "source": [
        "def gnome_sort(lst):\n",
        "    \"\"\"Performs Gnome Sort on a list of data\n",
        "\n",
        "    This operates inplace, meaning the list will be sorted after calling this function\n",
        "\n",
        "    Args:\n",
        "        lst (list): The list to sort\n",
        "    \"\"\"\n",
        "    first = 0\n",
        "    last = len(lst) - 1\n",
        "\n",
        "    pos = first + 1\n",
        "    while True:\n",
        "        if pos > last:\n",
        "            # Done - List is sorted\n",
        "            break\n",
        "        elif pos == first:\n",
        "            # Move right\n",
        "            pos = first + 1\n",
        "        elif lst[pos] > lst[pos - 1]:\n",
        "            # Move right\n",
        "            pos += 1\n",
        "        else:   # lst[pos] <= lst[pos - 1]\n",
        "            # Swap and move left\n",
        "            lst[pos], lst[pos - 1] = lst[pos - 1], lst[pos]\n",
        "            pos -= 1"
      ],
      "execution_count": null,
      "outputs": []
    },
    {
      "cell_type": "markdown",
      "metadata": {
        "id": "iEvfNd_lKiI7"
      },
      "source": [
        "#### Gnome Sort Examples\n",
        "To validate that the gnome sort function works as expected, let's test it on a list of integers and strings.\n",
        "\n",
        "In the code cell below, use Gnome sort to sort the list of integers and strings, then visually confirm that the lists are sorted."
      ]
    },
    {
      "cell_type": "code",
      "metadata": {
        "id": "bJ0exJFwKw04"
      },
      "source": [
        "# List of integers\n",
        "int_data = [2, 6, 5, 9, 1]\n",
        "print(f'Unsorted list of integers: {int_data}')\n",
        "\n",
        "# TODO: Call gnome sort to sort the list of integers, then print out the sorted list\n",
        "\n",
        "# List of strings\n",
        "str_data = ['zebra', 'cat', 'frog', 'dog', 'leopard']\n",
        "print(f'Unsorted list of strings: {str_data}')\n",
        "\n",
        "# TODO: Call gnome sort to sort the list of strings, then print out the sorted list\n"
      ],
      "execution_count": null,
      "outputs": []
    },
    {
      "cell_type": "markdown",
      "metadata": {
        "id": "LOlo0oSsLiib"
      },
      "source": [
        "###### Solution"
      ]
    },
    {
      "cell_type": "code",
      "metadata": {
        "id": "fRyKHWsCK7Z2"
      },
      "source": [
        "# List of integers\n",
        "int_data = [2, 6, 5, 9, 1]\n",
        "print(f'Unsorted list of integers: {int_data}')\n",
        "\n",
        "# TODO: Call gnome sort to sort the list of integers, then print out the sorted list\n",
        "gnome_sort(int_data)\n",
        "print(f'Sorted list of integers: {int_data}')\n",
        "\n",
        "# List of strings\n",
        "str_data = ['zebra', 'cat', 'frog', 'dog', 'leopard']\n",
        "print(f'Unsorted list of strings: {str_data}')\n",
        "\n",
        "# TODO: Call gnome sort to sort the list of strings, then print out the sorted list\n",
        "gnome_sort(str_data)\n",
        "print(f'Sorted list of strings: {str_data}')"
      ],
      "execution_count": null,
      "outputs": []
    },
    {
      "cell_type": "markdown",
      "metadata": {
        "id": "ZAgHhm_MheQQ"
      },
      "source": [
        "#### The Person Class\n",
        "The sample datasets you downloaded at the start of the lab contain various information relating to people. An example of one of the entries from one of the files is as follows:\n",
        "\n",
        "```\n",
        "Reese, Jesse\n",
        "2900 Fulham Ridge\n",
        "WINTON\tQLD\t4735\n",
        "```\n",
        "That is, for every person, we have:\n",
        "* Their first name, last name and address (including suburb, state and postcode).\n",
        "\n",
        "To test the sorting algorithms that you develop in this lab (and future labs), we will attempt to sort a collection of people, where each person is represented by the information as shown above.\n",
        "\n",
        "To do this, we will need two things:\n",
        "* A `Person` class\n",
        "    * This will let us represent all fields relating to the person, and encapsulate them within an object\n",
        "* The ability to sort a list of person objects.\n",
        "    * We can support this by implementing the `__lt__()` and `__eq__()` special methods\n",
        "\n",
        "In the code cell below, we provide most of the complete implementation of the `Person` class. You'll see it consists of:\n",
        "* A constructor (`__init__()`)\n",
        "    * This sets up instance variables for all fields described above\n",
        "* A `__str__()` method\n",
        "    * This describes what will be shown when we pass a person object into a call the `print()` function\n",
        "* An incomplete `__lt__()` method\n",
        "    * This describes what it means for a person object to be 'less than' another\n",
        "* A `__eq__()` method\n",
        "    * This describes what it means for two person objects to be considered equal\n",
        "* A `__le__()` method\n",
        "    * This describes what it means for a person object to be less than or equal to another.\n",
        "\n",
        "In this class definition, you'll also see a class variable `num_comparisons`. Because this variable is associated to the class, all created Person objects have access to the exact same variable. We will be using this to keep track of how many comparisons are made when sorting a list of person objects (We increment this class variable in the `__lt__()` method).\n",
        "\n",
        "Your task in this section is to complete the `__lt__()` method. This method accepts a parameter, `other`, which is expected to be a person object, and should return True if the current object (i.e. `self`), is considered 'less than' the `other` object.\n",
        "\n",
        "The current object is considered 'less' than the other object based on the following conditions:\n",
        "* First, the last names should be compared, case insensitively\n",
        "    * If the last names are different, then the current object is considered 'less than' the other object, if its last name comes first lexicographically\n",
        "    * e.g. 'jones' would be considered < 'smith'\n",
        "* If the last names are identical, then the first names are considered, case insensitively\n",
        "    * If the first names are different, then the current object is considered 'less than' the other object, if its first name comes first lexicographically\n",
        "    * e.g. 'bob' would be considered < 'mary'        \n",
        "* If the first names are identical, then the postcode is considered\n",
        "    * If the postcode of the current object is less than the postcode of the other object, you should return True, otherwise False\n",
        "    * e.g. 3083 would be considered < 3086\n",
        "\n",
        "\n",
        "Some code is provided in the code cell below this one to check if your method works as expected."
      ]
    },
    {
      "cell_type": "code",
      "metadata": {
        "id": "TZwg1N35FTcM"
      },
      "source": [
        "class Person:\n",
        "    # num_comparisons is incremented each time a Person object is compared to another Person object\n",
        "    # This is a class variable, meaning ALL Person objects access the same variable\n",
        "    num_comparisons = 0\n",
        "\n",
        "    def __init__(self, first_name, last_name, address, suburb, state, post_code):\n",
        "        \"\"\"Constructor for a Person object\n",
        "\n",
        "        Args:\n",
        "            first_name (str): First name of the person\n",
        "            last_name (str): Last name of the person\n",
        "            address (str): Address of the person\n",
        "            suburb (str): Suburb of the person\n",
        "            state (str): State of the person\n",
        "            post_code (int): Post code of the person\n",
        "        \"\"\"\n",
        "        self.first_name = first_name\n",
        "        self.last_name = last_name\n",
        "        self.address = address\n",
        "        self.suburb = suburb\n",
        "        self.state = state\n",
        "        self.post_code = post_code\n",
        "\n",
        "    def __str__(self):\n",
        "        \"\"\"Returns a string representation of the Person object\"\"\"\n",
        "        return f'{self.last_name}, {self.first_name}\\n' \\\n",
        "               f'{self.address}\\n' \\\n",
        "               f'{self.suburb}\\t{self.state}\\t{self.post_code}\\n'\n",
        "\n",
        "    def __lt__(self, other):\n",
        "        \"\"\"Comparison method for 'less than' (<) comparison between two Person objects\n",
        "\n",
        "        This method is called when comparing if a Person object is 'less than' another\n",
        "\n",
        "        The comparison is made in the order as follows:\n",
        "            The last names are considered case insensitive and lexicographically\n",
        "                i.e. 'Jones' would be considered < 'Smith'\n",
        "            If the last names are identical, the first names are considered\n",
        "                i.e. 'Bob' would be considered < 'Mary'\n",
        "            If the first names are identical, the post codes are considered\n",
        "                i.e. 3083 would be considered < 3086\n",
        "\n",
        "        Args:\n",
        "            other (Person): The Person object to compare\n",
        "\n",
        "        Returns:\n",
        "            (bool): True if the current Person object is considered 'less than' the other Person\n",
        "                object, otherwise False\n",
        "        \"\"\"\n",
        "        # Increment the number of comparisons that have been made\n",
        "        Person.num_comparisons += 1\n",
        "\n",
        "        # TODO: Complete the implementation of this method\n",
        "\n",
        "\n",
        "    def __eq__(self, other):\n",
        "        \"\"\"Determines if two Person objects are equivalent\n",
        "\n",
        "        This method is called when comparing two Person objects for equality, i.e.:\n",
        "            person_a = Person(...)\n",
        "            person_b = Person(...)\n",
        "            person_a == person_b\n",
        "\n",
        "        Equality is determined by the first name (case insensitive), last name (case insensitive)\n",
        "            and post code being equal\n",
        "\n",
        "        Args:\n",
        "            other (Person): The Person object to compare for equality\n",
        "\n",
        "        Returns:\n",
        "            (bool): True/False if the Person objects are considered equal\n",
        "        \"\"\"\n",
        "        if not isinstance(other, Person):\n",
        "            return False\n",
        "        return self.first_name.lower() == other.first_name.lower() and \\\n",
        "            self.last_name.lower() == other.last_name.lower() and \\\n",
        "            self.post_code == other.post_code\n",
        "\n",
        "    def __le__(self, other):\n",
        "        \"\"\"Comparison method for 'less than or equal to' (<=) comparison between two Person objects\n",
        "\n",
        "        This method is called when comparing if a Person object is <= another Person\n",
        "\n",
        "        This method uses the logic of the __eq__ and __lt__ methods\n",
        "\n",
        "        Args:\n",
        "            other (Person): The Person object to compare\n",
        "\n",
        "        Returns:\n",
        "            (bool): True if the current Person object is considered 'less than or equal to' the\n",
        "                other Person object, otherwise False\n",
        "        \"\"\"\n",
        "        return self < other or self == other"
      ],
      "execution_count": null,
      "outputs": []
    },
    {
      "cell_type": "code",
      "metadata": {
        "id": "wAIDtgEeMsFO"
      },
      "source": [
        "# Test your implementation\n",
        "\n",
        "# Expect: person_1 < person_2 (Gordon before Reese)\n",
        "person_1 = Person('Barbara', 'Gordon', '40206 Dobell Chase', 'EIDSVOLD', 'QLD', 4627)\n",
        "person_2 = Person('Jesse', 'Reese', '2900 Fulham Ridge', 'WINTON', 'QLD', 4735)\n",
        "print(f'Person 1 < Person 2: {person_1 < person_2} (Expected: True)')\n",
        "\n",
        "# Expect: person_1 < person_2 (James < Jesse)\n",
        "person_1 = Person('James', 'Reese', '2900 Fulham Ridge', 'WINTON', 'QLD', 4735)\n",
        "person_2 = Person('Jesse', 'Reese', '2900 Fulham Ridge', 'WINTON', 'QLD', 4735)\n",
        "print(f'Person 1 < Person 2: {person_1 < person_2} (Expected: True)')\n",
        "\n",
        "# Expect: person_1 < person_2 (4000 < 4735)\n",
        "person_1 = Person('Jesse', 'Reese', '2900 Fulham Ridge', 'WINTON', 'QLD', 4000)\n",
        "person_2 = Person('Jesse', 'Reese', '2900 Fulham Ridge', 'WINTON', 'QLD', 4735)\n",
        "print(f'Person 1 < Person 2: {person_1 < person_2} (Expected: True)')"
      ],
      "execution_count": null,
      "outputs": []
    },
    {
      "cell_type": "markdown",
      "metadata": {
        "id": "fCYYt2dtFVvH"
      },
      "source": [
        "###### Solution"
      ]
    },
    {
      "cell_type": "code",
      "metadata": {
        "id": "WPPXgr0RJS0L"
      },
      "source": [
        "class Person:\n",
        "    # num_comparisons is incremented each time a Person object is compared to another Person object\n",
        "    # This is a class variable, meaning ALL Person objects access the same variable\n",
        "    num_comparisons = 0\n",
        "\n",
        "    def __init__(self, first_name, last_name, address, suburb, state, post_code):\n",
        "        \"\"\"Constructor for a Person object\n",
        "\n",
        "        Args:\n",
        "            first_name (str): First name of the person\n",
        "            last_name (str): Last name of the person\n",
        "            address (str): Address of the person\n",
        "            suburb (str): Suburb of the person\n",
        "            state (str): State of the person\n",
        "            post_code (int): Post code of the person\n",
        "        \"\"\"\n",
        "        self.first_name = first_name\n",
        "        self.last_name = last_name\n",
        "        self.address = address\n",
        "        self.suburb = suburb\n",
        "        self.state = state\n",
        "        self.post_code = post_code\n",
        "\n",
        "    def __str__(self):\n",
        "        \"\"\"Returns a string representation of the Person object\"\"\"\n",
        "        return f'{self.last_name}, {self.first_name}\\n' \\\n",
        "               f'{self.address}\\n' \\\n",
        "               f'{self.suburb}\\t{self.state}\\t{self.post_code}\\n'\n",
        "\n",
        "    def __lt__(self, other):\n",
        "        \"\"\"Comparison method for 'less than' (<) comparison between two Person objects\n",
        "\n",
        "        This method is called when comparing if a Person object is 'less than' another\n",
        "\n",
        "        The comparison is made in the order as follows:\n",
        "            The last names are considered case insensitive and lexicographically\n",
        "                i.e. 'Jones' would be considered < 'Smith'\n",
        "            If the last names are identical, the first names are considered\n",
        "                i.e. 'Bob' would be considered < 'Mary'\n",
        "            If the first names are identical, the post codes are considered\n",
        "                i.e. 3083 would be considered < 3086\n",
        "\n",
        "        Args:\n",
        "            other (Person): The Person object to compare\n",
        "\n",
        "        Returns:\n",
        "            (bool): True if the current Person object is considered 'less than' the other Person\n",
        "                object, otherwise False\n",
        "        \"\"\"\n",
        "        # Increment the number of comparisons that have been made\n",
        "        Person.num_comparisons += 1\n",
        "\n",
        "        # Check if the last names are equivalent\n",
        "        last_name_equivalent = self.last_name.lower() == other.last_name.lower()\n",
        "        if last_name_equivalent:\n",
        "            # Check if the first names are equivalent\n",
        "            first_name_equivalent = self.first_name.lower() == other.first_name.lower()\n",
        "            if first_name_equivalent:\n",
        "                return self.post_code < other.post_code\n",
        "            else:\n",
        "                return self.first_name.lower() < other.first_name.lower()\n",
        "        else:\n",
        "            return self.last_name.lower() < other.last_name.lower()\n",
        "\n",
        "    def __eq__(self, other):\n",
        "        \"\"\"Determines if two Person objects are equivalent\n",
        "\n",
        "        This method is called when comparing two Person objects for equality, i.e.:\n",
        "            person_a = Person(...)\n",
        "            person_b = Person(...)\n",
        "            person_a == person_b\n",
        "\n",
        "        Equality is determined by the first name (case insensitive), last name (case insensitive)\n",
        "            and post code being equal\n",
        "\n",
        "        Args:\n",
        "            other (Person): The Person object to compare for equality\n",
        "\n",
        "        Returns:\n",
        "            (bool): True/False if the Person objects are considered equal\n",
        "        \"\"\"\n",
        "        if not isinstance(other, Person):\n",
        "            return False\n",
        "        return self.first_name.lower() == other.first_name.lower() and \\\n",
        "            self.last_name.lower() == other.last_name.lower() and \\\n",
        "            self.post_code == other.post_code\n",
        "\n",
        "    def __le__(self, other):\n",
        "        \"\"\"Comparison method for 'less than or equal to' (<=) comparison between two Person objects\n",
        "\n",
        "        This method is called when comparing if a Person object is <= another Person\n",
        "\n",
        "        This method uses the logic of the __eq__ and __lt__ methods\n",
        "\n",
        "        Args:\n",
        "            other (Person): The Person object to compare\n",
        "\n",
        "        Returns:\n",
        "            (bool): True if the current Person object is considered 'less than or equal to' the\n",
        "                other Person object, otherwise False\n",
        "        \"\"\"\n",
        "        return self < other or self == other"
      ],
      "execution_count": null,
      "outputs": []
    },
    {
      "cell_type": "markdown",
      "metadata": {
        "id": "F8GDZnkwiYh8"
      },
      "source": [
        "#### Sorting People\n",
        "To sort a list of people by using data in the provided text files, there are a few steps involved. Namely, we need to:\n",
        "* Read data from the text file\n",
        "* Create Person objects from the data in the text file\n",
        "* Store the Person objects in some collection (a list)\n",
        "* Sort the people using some sorting algorithm\n",
        "* Write the list of sorted people to file (so we can inspect they are indeed sorted)\n",
        "\n",
        "All of the code required to do these steps has been provided to you in the following sections. We have also provided a single function you can call to perform all of the steps above.\n",
        "\n",
        "Although the code is already written for you, make sure to read through it carefully before moving on to understand what it is doing."
      ]
    },
    {
      "cell_type": "markdown",
      "metadata": {
        "id": "bdkdjqwTOfJw"
      },
      "source": [
        "##### Reading Data\n",
        "\n",
        "By inspecting the sample text files, you can see that each person is represented as follows:\n",
        "\n",
        "```\n",
        "LAST_NAME, FIRST_NAME\n",
        "ADDRESS\n",
        "SUBURB\tSTATE\tPOSTCODE\n",
        "```\n",
        "\n",
        "An empty line is used to separate different people in the text files, and a full stop is used to know when the last line of the file is.\n",
        "\n",
        "Given the name of a file, the function provided below reads data given this expected format, creates a new `Person` object per-person from the file, and appends them to a list. Once finished loading data, it then returns the list of people."
      ]
    },
    {
      "cell_type": "code",
      "metadata": {
        "id": "92NUvBjWOkEl"
      },
      "source": [
        "def load_data(filename):\n",
        "    \"\"\"Loads input from a file, creates a list of Person objects, and returns the list\n",
        "\n",
        "    Args:\n",
        "        filename (str): Path to the file containing the person data\n",
        "\n",
        "    Returns:\n",
        "        (list): A list of Person objects\n",
        "    \"\"\"\n",
        "    people = []\n",
        "\n",
        "    with open(filename, 'r') as people_file:\n",
        "        while True:\n",
        "            name = people_file.readline()\n",
        "            name = name.split(',')\n",
        "            last_name = name[0].strip()\n",
        "            first_name = name[1].strip()\n",
        "\n",
        "            address = people_file.readline().strip()\n",
        "\n",
        "            # Suburb, state and postcode separated by tabs\n",
        "            suburb_line = people_file.readline()\n",
        "            suburb_line = suburb_line.split('\\t')\n",
        "\n",
        "            suburb = suburb_line[0].strip()\n",
        "            state = suburb_line[1].strip()\n",
        "            post_code = int(suburb_line[2].strip())\n",
        "\n",
        "            person = Person(first_name, last_name, address, suburb, state, post_code)\n",
        "            people.append(person)\n",
        "\n",
        "            # Consume the line at the end of the record\n",
        "            # For visibility, the last record is terminated with a dot rather than a blank line\n",
        "            next_line = people_file.readline().strip()\n",
        "            if next_line == '.':\n",
        "                break\n",
        "    return people"
      ],
      "execution_count": null,
      "outputs": []
    },
    {
      "cell_type": "markdown",
      "metadata": {
        "id": "bcAcpsxuPgUj"
      },
      "source": [
        "##### Writing Data\n",
        "To validate that our sorting algorithms work, we will write the sorted person data back to a text file.\n",
        "\n",
        "The function provided below takes the name of a file to write data to, and a list of person objects, then writes their information to file.\n",
        "\n",
        "You'll note that we cast the person objects to a string: `str(person)`, this is calling the `__str__()` method from the `Person` class. Take a look at that method again to see what string representation gets returned."
      ]
    },
    {
      "cell_type": "code",
      "metadata": {
        "id": "ywT7Mg_nPh1M"
      },
      "source": [
        "def write_data(filename, lst):\n",
        "    \"\"\"Writes a list of people data to a file\"\"\"\n",
        "    with open(filename, 'w') as person_file:\n",
        "        for person in lst:\n",
        "            person_file.write(f'{str(person)}\\n')"
      ],
      "execution_count": null,
      "outputs": []
    },
    {
      "cell_type": "markdown",
      "metadata": {
        "id": "4Gti4Oc-QFe0"
      },
      "source": [
        "##### Sort People Function\n",
        "\n",
        "Given the name of a file to load, we want to be able to:\n",
        "* Read data from the text file\n",
        "* Create Person objects from the data in the text file\n",
        "* Store the Person objects in some collection (a list)\n",
        "* Sort the people using some sorting algorithm\n",
        "* Write the list of sorted people to file (so we can inspect they are indeed sorted)\n",
        "\n",
        "To simplify this process, below we define a function that can handle all of these steps!\n",
        "\n",
        "This function has 3 parameters:\n",
        "* `input_filename`: The name of the text file to load data from\n",
        "* `output_filename`: The name of the text file to write sorted data to\n",
        "* `sorting_function`: The name of the function used to sort the data. It is expected that this function accepts a single parameter (the list of people), and sorts the list of people in-place\n",
        "    * It is important that when calling this function we just provide the name of the function (i.e. no parenthesis)\n",
        "\n",
        "Following sorting, this function will also print out the number of comparisons that were made between person objects during the sort, along with how many people there were to be sorted. This will be important for us later when we perform a complexity analysis.\n",
        "* Note: This function resets the `num_comparisons` class variable to 0 before sorting. This is important so we can ensure the `num_comparisons` class variable accurately reflects the number of comparisons made by this sort."
      ]
    },
    {
      "cell_type": "code",
      "metadata": {
        "id": "CBqT6hi6QBIv"
      },
      "source": [
        "def sort_people(input_filename, output_filename, sorting_function):\n",
        "    \"\"\"Loads data from an input file, sorts it, then outputs it to file\"\"\"\n",
        "    # Load the input data and retrieve a list of people\n",
        "    people = load_data(input_filename)\n",
        "\n",
        "    # Set the number of comparisons made for Person objects to 0\n",
        "    Person.num_comparisons = 0\n",
        "\n",
        "    # Sort the list (Expected to operate in-place)\n",
        "    sorting_function(people)\n",
        "    print(f'There were {Person.num_comparisons} comparisons to sort {len(people)} people with {sorting_function.__name__}')\n",
        "\n",
        "    # Write the sorted people to file\n",
        "    write_data(output_filename, people)"
      ],
      "execution_count": null,
      "outputs": []
    },
    {
      "cell_type": "markdown",
      "metadata": {
        "id": "Qktt3kQ1RUvj"
      },
      "source": [
        "#### Gnome Sort on People Data\n",
        "\n",
        "Now that we have defined all the necessary pieces to enable sorting of Person data loaded from file, we can test out our Gnome sort function on person data!\n",
        "\n",
        "To do this, we will simply call the `sort_people()` function we defined above.\n",
        "\n",
        "Here we will test the `medium_data.txt` file (and store the output in `medium_data_gnome.txt`). After running this code cell, make sure to open up `medium_data_gnome.txt` and visually validate that the people appear to be sorted. \n",
        "\n",
        "After running this on `medium_data.txt`, feel free to test out any of the other provided files. Take care not to overwrite any of the input files.\n",
        "\n",
        "Pay important attention -- When passing in the `sorting_function` argument, we give it the **name** of the sorting function we want to use (e.g. `gnome_sort`), we do not call the function (e.g. `gnome_sort()`)."
      ]
    },
    {
      "cell_type": "code",
      "metadata": {
        "id": "XqEsu--MMtBh"
      },
      "source": [
        "sort_people('medium_data.txt', 'medium_data_gnome.txt', gnome_sort)"
      ],
      "execution_count": null,
      "outputs": []
    },
    {
      "cell_type": "markdown",
      "metadata": {
        "id": "AZhW6RsCi_MF"
      },
      "source": [
        "### Bubble Sort\n"
      ]
    },
    {
      "cell_type": "markdown",
      "metadata": {
        "id": "9jLQueEAN8K3"
      },
      "source": [
        "#### Implementing Bubble Sort\n",
        "\n",
        "In the code cell below, define a function named `bubble_sort`. This function should have one parameter (a list) and should sort the list in-place using bubble sort.\n",
        "\n",
        "You can find the algorithm for bubble sort in the Preliminary Questions or on LMS.\n",
        "\n",
        "Code has been provided to you at the bottom of this code cell to test your bubble sort function on a list of integers and strings."
      ]
    },
    {
      "cell_type": "code",
      "metadata": {
        "id": "LDhdGWQ7OuYf"
      },
      "source": [
        "# TODO: Define (and implement) bubble_sort\n",
        "\n",
        "\n",
        "\n",
        "# List of integers\n",
        "int_data = [2, 6, 5, 9, 1]\n",
        "print(f'Unsorted list of integers: {int_data}')\n",
        "bubble_sort(int_data)\n",
        "print(f'Sorted list of integers: {int_data}')\n",
        "\n",
        "# List of strings\n",
        "str_data = ['zebra', 'cat', 'frog', 'dog', 'leopard']\n",
        "print(f'Unsorted list of strings: {str_data}')\n",
        "bubble_sort(str_data)\n",
        "print(f'Sorted list of strings: {str_data}')"
      ],
      "execution_count": null,
      "outputs": []
    },
    {
      "cell_type": "markdown",
      "metadata": {
        "id": "1uEDb9fWPMYw"
      },
      "source": [
        "###### Solution"
      ]
    },
    {
      "cell_type": "code",
      "metadata": {
        "id": "Wt92DH_fPNrB"
      },
      "source": [
        "def bubble_sort(lst):\n",
        "    \"\"\"Sorts a list inplace using bubble sort\n",
        "\n",
        "    Args:\n",
        "    lst (list): The list of data to be sorted\n",
        "    \"\"\"\n",
        "    left = 0\n",
        "    right = len(lst) - 1\n",
        "\n",
        "    for i in range(right, left, -1):\n",
        "        for j in range(left, i, 1):\n",
        "            if lst[j] > lst[j + 1]:\n",
        "                lst[j], lst[j + 1] = lst[j + 1], lst[j]"
      ],
      "execution_count": null,
      "outputs": []
    },
    {
      "cell_type": "markdown",
      "metadata": {
        "id": "1BI3TmBTP5ir"
      },
      "source": [
        "#### Bubble Sort on People Data\n",
        "Now you have a working bubble sort algorithm, let's see how it performs on sorting a list of people!\n",
        "\n",
        "To sort a list of people, you can reuse the `sort_people()` function defined above.\n",
        "\n",
        "In the code cell below, call the `sort_people()` function using the `medium_data.txt` input file and your `bubble_sort` function. Once executed, inspect the output file (in the files tab) to validate that the people are sorted.\n",
        "Take care not to overwrite any of the input files."
      ]
    },
    {
      "cell_type": "code",
      "metadata": {
        "id": "VJ6IYn20RVPA"
      },
      "source": [
        "# TODO: Call sort_people() so sort a list of people using bubble sort\n"
      ],
      "execution_count": null,
      "outputs": []
    },
    {
      "cell_type": "markdown",
      "metadata": {
        "id": "ShCHhkxSUKz0"
      },
      "source": [
        "###### Solution"
      ]
    },
    {
      "cell_type": "code",
      "metadata": {
        "id": "lQ1fSq6yUNWD"
      },
      "source": [
        "sort_people('medium_data.txt', 'medium_data_bubble.txt', bubble_sort)"
      ],
      "execution_count": null,
      "outputs": []
    },
    {
      "cell_type": "markdown",
      "metadata": {
        "id": "BWgBPkp3AnPx"
      },
      "source": [
        "### Selection Sort"
      ]
    },
    {
      "cell_type": "markdown",
      "metadata": {
        "id": "FsqnmDhRlKc_"
      },
      "source": [
        "#### Implementing Selection Sort\n",
        "\n",
        "In the code cell below, define a function named `selection_sort`. This function should have one parameter (a list) and should sort the list in-place using selection sort.\n",
        "\n",
        "You can find the algorithm for selection sort in the Preliminary Questions or on LMS.\n",
        "\n",
        "**NOTE**: You are welcome to implement this as two functions (i.e. `selection_sort()` and `get_index_of_maximum()`).\n",
        "\n",
        "Code has been provided to you at the bottom of this code cell to test your selection sort function on a list of integers and strings."
      ]
    },
    {
      "cell_type": "code",
      "metadata": {
        "id": "SwRikN0LlVyv"
      },
      "source": [
        "# TODO: Define (and implement) selection_sort\n",
        "\n",
        "\n",
        "\n",
        "# List of integers\n",
        "int_data = [2, 6, 5, 9, 1]\n",
        "print(f'Unsorted list of integers: {int_data}')\n",
        "selection_sort(int_data)\n",
        "print(f'Sorted list of integers: {int_data}')\n",
        "\n",
        "# List of strings\n",
        "str_data = ['zebra', 'cat', 'frog', 'dog', 'leopard']\n",
        "print(f'Unsorted list of strings: {str_data}')\n",
        "selection_sort(str_data)\n",
        "print(f'Sorted list of strings: {str_data}')"
      ],
      "execution_count": null,
      "outputs": []
    },
    {
      "cell_type": "markdown",
      "metadata": {
        "id": "yKTBbVg2m8ke"
      },
      "source": [
        "###### Solution"
      ]
    },
    {
      "cell_type": "code",
      "metadata": {
        "id": "NT1uE8wFm9ze"
      },
      "source": [
        "def selection_sort(lst):\n",
        "    \"\"\"Sorts a list inplace using selection sort\n",
        "\n",
        "    Args:\n",
        "        lst (list): The list of data to be sorted\n",
        "    \"\"\"\n",
        "    left = 0\n",
        "    right = len(lst) - 1\n",
        "\n",
        "    for i in range(right, left, -1):\n",
        "        max_index = get_index_of_maximum(lst, left, i)\n",
        "        lst[i], lst[max_index] = lst[max_index], lst[i]\n",
        "\n",
        "\n",
        "def get_index_of_maximum(lst, low, high):\n",
        "    \"\"\"Finds the index of the largest element in a list between two indices (inclusive)\n",
        "\n",
        "    Args:\n",
        "        lst (list): The list to swap elements in\n",
        "        low (int): The lowest index in the array we will consider for the maximum index\n",
        "        high (int): The highest index in the array we will consider for the maximum index\n",
        "\n",
        "    Returns:\n",
        "        (int): The index of the maximum value in the list within the given range\n",
        "    \"\"\"\n",
        "    max_index = low\n",
        "    for i in range(low + 1, high + 1):\n",
        "        if lst[i] > lst[max_index]:\n",
        "            max_index = i\n",
        "    return max_index"
      ],
      "execution_count": null,
      "outputs": []
    },
    {
      "cell_type": "markdown",
      "metadata": {
        "id": "ZrI7okA8nr1X"
      },
      "source": [
        "#### Selection Sort on People Data\n",
        "Now you have a working selection sort algorithm, let's see how it performs on sorting a list of people!\n",
        "\n",
        "To sort a list of people, you can reuse the `sort_people()` function defined above.\n",
        "\n",
        "In the code cell below, call the `sort_people()` function using the `medium_data.txt` input file and your `selection_sort` function. Once executed, inspect the output file (in the files tab) to validate that the people are sorted.\n",
        "Take care not to overwrite any of the input files."
      ]
    },
    {
      "cell_type": "code",
      "metadata": {
        "id": "0uX-0U1IoEfj"
      },
      "source": [
        "# TODO: Call sort_people() so sort a list of people using bubble sort\n"
      ],
      "execution_count": null,
      "outputs": []
    },
    {
      "cell_type": "markdown",
      "metadata": {
        "id": "kwtUpTopWJMk"
      },
      "source": [
        "###### Solution"
      ]
    },
    {
      "cell_type": "code",
      "metadata": {
        "id": "d40uSuIQWJS3"
      },
      "source": [
        "sort_people('medium_data.txt', 'medium_data_selection.txt', selection_sort)"
      ],
      "execution_count": null,
      "outputs": []
    },
    {
      "cell_type": "markdown",
      "metadata": {
        "id": "MIZxopl4ood0"
      },
      "source": [
        "### Empirical Results\n"
      ]
    },
    {
      "cell_type": "markdown",
      "metadata": {
        "id": "ivfnkVFbsIUt"
      },
      "source": [
        "#### Time Profiling\n",
        "\n",
        "Using the `timeit` module and the output from the `sort_people` function, complete the following table (It may be easiest to complete this table on a spare sheet of paper):\n",
        "\n",
        "You will need to modify the arguments given to `sort_people` to get results for each section in the table."
      ]
    },
    {
      "cell_type": "markdown",
      "metadata": {
        "id": "zuILby1xo3Jy"
      },
      "source": [
        "| Sort | small_data.txt <br/> ( __ elements) | medium_data.txt <br/> ( __ elements) | large_data.txt <br/> ( __ elements) <br/> |\n",
        "|------|----------------|-----------------|----------------|\n",
        "| Gnome Sort | Time: *???* <br/> Comparisons: *???* | Time: *???* <br/> Comparisons: *???* | Time: *???* <br/> Comparisons: *???*|\n",
        "| Bubble Sort | Time: *???* <br/> Comparisons: *???* | Time: *???* <br/> Comparisons: *???* | Time: *???* <br/> Comparisons: *???* |\n",
        "| Selection Sort | Time: *???* <br/> Comparisons: *???* | Time: *???* <br/> Comparisons: *???* | Time: *???* <br/> Comparisons: *???*|"
      ]
    },
    {
      "cell_type": "markdown",
      "metadata": {
        "id": "De3836A8pGHX"
      },
      "source": [
        "**NOTES**  \n",
        "The `timeit` module can execute how long it takes for a function call to execute. \n",
        "\n",
        "To use this module to measure the time taken for the `sort_people` function, we need to use the *`lambda`* keyword before the function name. What this is doing is outside the scope of this subject, however if you are interested, feel free to ask your tutor/demonstrator.\n",
        "\n",
        "When using this module, we can get it to call the function a given number of times. This enables us to average the execution time to help remove any fluctuations that may arise. The code cell below uses `N_REPEATS` to determine how many times we want the function to execute. Feel free to modify this as you see fit.\n",
        "\n",
        "**CAUTION**: It can take around 1 minute to process the `large_data.txt` file. So setting `N_REPEATS` to 1 for this file would be a good idea!"
      ]
    },
    {
      "cell_type": "code",
      "metadata": {
        "id": "q2iw4p4So3Ql"
      },
      "source": [
        "import timeit\n",
        "\n",
        "N_REPEATS = 2\n",
        "\n",
        "total_execution_time = timeit.timeit(\n",
        "    lambda: sort_people('small_data.txt', 'small_data_gnome.txt', gnome_sort), \n",
        "    globals=globals(),\n",
        "    number=N_REPEATS)\n",
        "average_time = total_execution_time / N_REPEATS\n",
        "\n",
        "print(f'Average execution time: {average_time:.3f}s across {N_REPEATS} runs')"
      ],
      "execution_count": null,
      "outputs": []
    },
    {
      "cell_type": "markdown",
      "metadata": {
        "id": "s49OmCNaqxnf"
      },
      "source": [
        "###### Solution"
      ]
    },
    {
      "cell_type": "markdown",
      "metadata": {
        "id": "85tf3yZdqzCu"
      },
      "source": [
        "**Note**: The number of elements and comparisons should exactly match this solution, however your reported time will slightly vary.\n",
        "\n",
        "| Sort | small_data.txt <br/> ( 10 elements) | medium_data.txt <br/> ( 1000 elements) | large_data.txt <br/> ( 10000 elements) <br/> |\n",
        "|------|----------------|-----------------|----------------|\n",
        "| Gnome Sort | Time: 0m 0.002s <br/> Comparisons: 59 | Time: 0m 0.713s <br/> Comparisons: 499 521 | Time: 1m 21.797s <br/> Comparisons: 50 202 909 |\n",
        "| Bubble Sort | Time: 0m 0.002s <br/> Comparisons: 45 | Time: 0m 0.676s <br/> Comparisons: 499 500 | Time: 1m 20.301s <br/> Comparisons: 49 995 000 |\n",
        "| Selection Sort | Time: 0m 0.002s <br/> Comparisons: 45 | Time: 0m 0.585s <br/> Comparisons: 499 500 | Time: 1m 4.858s <br/> Comparisons: 49 995 000 |"
      ]
    },
    {
      "cell_type": "markdown",
      "metadata": {
        "id": "2H0gUDwYsMdB"
      },
      "source": [
        "#### Question\n",
        "\n",
        "Consider the execution times and the number of comparisons done by each of the sorting algorithms you implemented. Compare them to the number of elements in each file. Do your results agree with the formulae and growth rates we have looked at? You can assume that the complexity for gnome sort is also $O(n^{2})$"
      ]
    },
    {
      "cell_type": "markdown",
      "metadata": {
        "id": "XlqNTOxTtPnr"
      },
      "source": [
        "*Write your answer in this cell or on a sheet of paper*"
      ]
    },
    {
      "cell_type": "markdown",
      "metadata": {
        "id": "Tq-Qypu-tXa7"
      },
      "source": [
        "###### Solution"
      ]
    },
    {
      "cell_type": "markdown",
      "metadata": {
        "id": "8tEdgo9-tYku"
      },
      "source": [
        "Yes.  \n",
        "\n",
        "We can see from the number of elements, the large dataset is 10x bigger than the medium dataset.  \n",
        "\n",
        "Using the results in the sample solution for the Gnome sort algorithm, we see that the execution time for the large dataset was 81.797s whilst 0.713s for the medium dataset.\n",
        "\n",
        "This means the large dataset took (81.797/0.713) ~= 114 ~= 100x longer to sort (i.e. as N increased by 10, the execution time increased by 100: $O(n^{2})$). \n",
        "\n",
        "You can show the same result for bubble sort and selection sort using the same logic.\n",
        "\n",
        "This logic doesn't apply as well to the small dataset because it takes such little time to execute."
      ]
    },
    {
      "cell_type": "markdown",
      "metadata": {
        "id": "cZTcxccvAo7o"
      },
      "source": [
        "### Early Stopping Bubble Sort\n"
      ]
    },
    {
      "cell_type": "markdown",
      "metadata": {
        "id": "t1xCxOHYvads"
      },
      "source": [
        "#### Implementing Early Stopping Bubble Sort\n",
        "\n",
        "In the code cell below, define a function named `bubble_sort_early_stopping`. This function should have one parameter (a list) and should sort the list in-place using an early stopping version of bubble sort.\n",
        "\n",
        "When implementing the early stopping version, this should be the same as for normal bubble sort, however the bubble sort process should terminate after a pass through the outer loop that does not involve a pass.\n",
        "\n",
        "Code has been provided to you at the bottom of this code cell to test your bubble sort function on a list of integers and strings."
      ]
    },
    {
      "cell_type": "code",
      "metadata": {
        "id": "c_4WQB6av0qG"
      },
      "source": [
        "# TODO: Define (and implement) bubble_sort_early_stopping\n",
        "\n",
        "\n",
        "\n",
        "# List of integers\n",
        "int_data = [2, 6, 5, 9, 1]\n",
        "print(f'Unsorted list of integers: {int_data}')\n",
        "bubble_sort_early_stopping(int_data)\n",
        "print(f'Sorted list of integers: {int_data}')\n",
        "\n",
        "# List of strings\n",
        "str_data = ['zebra', 'cat', 'frog', 'dog', 'leopard']\n",
        "print(f'Unsorted list of strings: {str_data}')\n",
        "bubble_sort_early_stopping(str_data)\n",
        "print(f'Sorted list of strings: {str_data}')"
      ],
      "execution_count": null,
      "outputs": []
    },
    {
      "cell_type": "markdown",
      "metadata": {
        "id": "fwkroMVXwDWI"
      },
      "source": [
        "###### Solution"
      ]
    },
    {
      "cell_type": "code",
      "metadata": {
        "id": "n99SceixwDcH"
      },
      "source": [
        "def bubble_sort_early_stopping(lst):\n",
        "    \"\"\"Sorts a list inplace using bubble sort\n",
        "\n",
        "    This stops the process early if a pass through the outer loop does not involve a swap\n",
        "\n",
        "    Args:\n",
        "    lst (list): The list of data to be sorted\n",
        "    \"\"\"\n",
        "    left = 0\n",
        "    right = len(lst) - 1\n",
        "\n",
        "    for i in range(right, left, -1):\n",
        "        swap_performed = False\n",
        "        for j in range(left, i, 1):\n",
        "            if lst[j] > lst[j + 1]:\n",
        "                lst[j], lst[j + 1] = lst[j + 1], lst[j]\n",
        "                swap_performed = True\n",
        "        if not swap_performed:\n",
        "            break"
      ],
      "execution_count": null,
      "outputs": []
    },
    {
      "cell_type": "markdown",
      "metadata": {
        "id": "VP6SNkBAwD_t"
      },
      "source": [
        "#### Early Stopping Bubble Sort on People Data\n",
        "\n",
        "Now you have a working early stopping bubble sort algorithm, let's see how it performs on sorting a list of people!\n",
        "\n",
        "To sort a list of people, you can reuse the `sort_people()` function defined above.\n",
        "\n",
        "In the code cell below, call the `sort_people()` function using the `medium_data.txt` input file and your `bubble_sort_early_stopping` function. Once executed, inspect the output file (in the files tab) to validate that the people are sorted.\n",
        "Take care not to overwrite any of the input files."
      ]
    },
    {
      "cell_type": "code",
      "metadata": {
        "id": "tGOSvPZuwy3G"
      },
      "source": [
        "# TODO: Call sort_people() so sort a list of people using bubble sort\n"
      ],
      "execution_count": null,
      "outputs": []
    },
    {
      "cell_type": "markdown",
      "metadata": {
        "id": "GHPke1XDb6q-"
      },
      "source": [
        "###### Solution"
      ]
    },
    {
      "cell_type": "code",
      "metadata": {
        "id": "fLVP9hktb6yW"
      },
      "source": [
        "sort_people('medium_data.txt', 'medium_data_bubble_early.txt', bubble_sort_early_stopping)"
      ],
      "execution_count": null,
      "outputs": []
    },
    {
      "cell_type": "markdown",
      "metadata": {
        "id": "2hyXewb-xb3z"
      },
      "source": [
        "#### Time Profiling\n",
        "Using the `timeit` module and the output from the `sort_people` function, complete the following table (It may be easiest to complete this table on a spare sheet of paper):\n",
        "\n",
        "You will need to modify the arguments given to `sort_people` to get results for each section in the table."
      ]
    },
    {
      "cell_type": "markdown",
      "metadata": {
        "id": "POT-h1f0xb8t"
      },
      "source": [
        "| Sort | small_data.txt <br/> ( 10 elements) | medium_data.txt <br/> ( 1000 elements) | large_data.txt <br/> ( 10000 elements) <br/> |\n",
        "|------|----------------|-----------------|----------------|\n",
        "| Bubble Sort Early Stopping | Time: *???* <br/> Comparisons: *???* | Time: *???* <br/> Comparisons: *???* | Time: *???* <br/> Comparisons: *???*|"
      ]
    },
    {
      "cell_type": "markdown",
      "metadata": {
        "id": "sFDT0su-c1OB"
      },
      "source": [
        "**Reminder**: Use `N_REPEATS` to average the execution time across `N` function calls. Don't set this too large for the `large_data.txt` file (as it takes a while to process)."
      ]
    },
    {
      "cell_type": "code",
      "metadata": {
        "id": "CHSXJxWHyYur"
      },
      "source": [
        "import timeit\n",
        "\n",
        "N_REPEATS = 2\n",
        "\n",
        "total_execution_time = timeit.timeit(\n",
        "    lambda: sort_people('small_data.txt', 'small_data_bubble_early.txt', bubble_sort_early_stopping), \n",
        "    globals=globals(),\n",
        "    number=N_REPEATS)\n",
        "average_time = total_execution_time / N_REPEATS\n",
        "\n",
        "print(f'Average execution time: {average_time:.3f}s across {N_REPEATS} runs')"
      ],
      "execution_count": null,
      "outputs": []
    },
    {
      "cell_type": "markdown",
      "metadata": {
        "id": "McAOGjOkzCMZ"
      },
      "source": [
        "###### Solution"
      ]
    },
    {
      "cell_type": "markdown",
      "metadata": {
        "id": "LuiXb_Enye9g"
      },
      "source": [
        "**Note**: The number of comparisons should exactly match this solution, however your reported time will slightly vary.\n",
        "\n",
        "| Sort | small_data.txt <br/> ( 10 elements) | medium_data.txt <br/> ( 1000 elements) | large_data.txt <br/> ( 10000 elements) <br/> |\n",
        "|------|----------------|-----------------|----------------|\n",
        "| Bubble Sort Early Stopping | Time: 0m 0.002s <br/> Comparisons: 45 | Time: 0m 0.675s <br/> Comparisons: 498 720 | Time: 1m 0.021s <br/> Comparisons: 49 955 940 |"
      ]
    },
    {
      "cell_type": "markdown",
      "metadata": {
        "id": "KjNIN5MJzXN4"
      },
      "source": [
        "#### Question 1\n",
        "Was there a significant improvement in the number of comparisons done by the Early Stopping Bubble sort compared to the original Bubble Sort algorithm?"
      ]
    },
    {
      "cell_type": "markdown",
      "metadata": {
        "id": "-GlLDz7BzjMa"
      },
      "source": [
        "*Write your answer in this cell or on a sheet of paper*"
      ]
    },
    {
      "cell_type": "markdown",
      "metadata": {
        "id": "RePb1ZQlzMhf"
      },
      "source": [
        "###### Solution"
      ]
    },
    {
      "cell_type": "markdown",
      "metadata": {
        "id": "nD2-8LHszlO4"
      },
      "source": [
        "Whilst there was a slight reduction in the number of comparisons, it was not significant."
      ]
    },
    {
      "cell_type": "markdown",
      "metadata": {
        "id": "9MfO8UxwzObH"
      },
      "source": [
        "#### Question 2\n",
        "Was there a significant improvement in the execution time of the Early Stopping Bubble sort compared to the original Bubble Sort algorithm?"
      ]
    },
    {
      "cell_type": "markdown",
      "metadata": {
        "id": "isAPlm-8zwhH"
      },
      "source": [
        "*Write your answer in this cell or on a sheet of paper*"
      ]
    },
    {
      "cell_type": "markdown",
      "metadata": {
        "id": "sMD6dmPfzwjj"
      },
      "source": [
        "###### Solution"
      ]
    },
    {
      "cell_type": "markdown",
      "metadata": {
        "id": "arvI6gAGzwsP"
      },
      "source": [
        "The execution time for early stopping bubble sort on the large data was approximately 20 seconds faster than original bubble sort (~25% faster)."
      ]
    },
    {
      "cell_type": "markdown",
      "metadata": {
        "id": "svS9uuUKxFqk"
      },
      "source": [
        "## Wrapping Up\n",
        "That's it for this lab!\n",
        "\n",
        "In this lab you have implemented your own bubble sort and selection sort algorithms, and performed experimental time profiling on these algorithms."
      ]
    }
  ]
}